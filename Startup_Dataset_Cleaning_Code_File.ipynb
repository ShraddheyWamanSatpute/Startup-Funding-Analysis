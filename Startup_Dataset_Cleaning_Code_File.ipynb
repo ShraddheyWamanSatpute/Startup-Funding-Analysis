{
 "cells": [
  {
   "cell_type": "markdown",
   "id": "4208831d",
   "metadata": {},
   "source": [
    "### Importing Libraries"
   ]
  },
  {
   "cell_type": "code",
   "execution_count": 884,
   "id": "21d10297",
   "metadata": {},
   "outputs": [],
   "source": [
    "import numpy as np\n",
    "import pandas as pd\n",
    "import matplotlib.pyplot as plt\n",
    "import seaborn as sns\n",
    "import re"
   ]
  },
  {
   "cell_type": "markdown",
   "id": "62fd6480-d436-402d-a3e4-c15b85610ea4",
   "metadata": {},
   "source": [
    "### Loading Dataset"
   ]
  },
  {
   "cell_type": "code",
   "execution_count": 887,
   "id": "1b95b7de",
   "metadata": {},
   "outputs": [],
   "source": [
    "df = pd.read_csv('startup_funding 2.csv', encoding='utf-8')"
   ]
  },
  {
   "cell_type": "code",
   "execution_count": 889,
   "id": "c416131d",
   "metadata": {},
   "outputs": [
    {
     "data": {
      "text/html": [
       "<div>\n",
       "<style scoped>\n",
       "    .dataframe tbody tr th:only-of-type {\n",
       "        vertical-align: middle;\n",
       "    }\n",
       "\n",
       "    .dataframe tbody tr th {\n",
       "        vertical-align: top;\n",
       "    }\n",
       "\n",
       "    .dataframe thead th {\n",
       "        text-align: right;\n",
       "    }\n",
       "</style>\n",
       "<table border=\"1\" class=\"dataframe\">\n",
       "  <thead>\n",
       "    <tr style=\"text-align: right;\">\n",
       "      <th></th>\n",
       "      <th>Sr No</th>\n",
       "      <th>Date dd/mm/yyyy</th>\n",
       "      <th>Startup Name</th>\n",
       "      <th>Industry Vertical</th>\n",
       "      <th>SubVertical</th>\n",
       "      <th>City  Location</th>\n",
       "      <th>Investors Name</th>\n",
       "      <th>InvestmentnType</th>\n",
       "      <th>Amount in USD</th>\n",
       "      <th>Remarks</th>\n",
       "    </tr>\n",
       "  </thead>\n",
       "  <tbody>\n",
       "    <tr>\n",
       "      <th>0</th>\n",
       "      <td>1</td>\n",
       "      <td>09/01/2020</td>\n",
       "      <td>BYJU’S</td>\n",
       "      <td>E-Tech</td>\n",
       "      <td>E-learning</td>\n",
       "      <td>Bengaluru</td>\n",
       "      <td>Tiger Global Management</td>\n",
       "      <td>Private Equity Round</td>\n",
       "      <td>20,00,00,000</td>\n",
       "      <td>NaN</td>\n",
       "    </tr>\n",
       "    <tr>\n",
       "      <th>1</th>\n",
       "      <td>2</td>\n",
       "      <td>13/01/2020</td>\n",
       "      <td>Shuttl</td>\n",
       "      <td>Transportation</td>\n",
       "      <td>App based shuttle service</td>\n",
       "      <td>Gurgaon</td>\n",
       "      <td>Susquehanna Growth Equity</td>\n",
       "      <td>Series C</td>\n",
       "      <td>80,48,394</td>\n",
       "      <td>NaN</td>\n",
       "    </tr>\n",
       "    <tr>\n",
       "      <th>2</th>\n",
       "      <td>3</td>\n",
       "      <td>09/01/2020</td>\n",
       "      <td>Mamaearth</td>\n",
       "      <td>E-commerce</td>\n",
       "      <td>Retailer of baby and toddler products</td>\n",
       "      <td>Bengaluru</td>\n",
       "      <td>Sequoia Capital India</td>\n",
       "      <td>Series B</td>\n",
       "      <td>1,83,58,860</td>\n",
       "      <td>NaN</td>\n",
       "    </tr>\n",
       "    <tr>\n",
       "      <th>3</th>\n",
       "      <td>4</td>\n",
       "      <td>02/01/2020</td>\n",
       "      <td>https://www.wealthbucket.in/</td>\n",
       "      <td>FinTech</td>\n",
       "      <td>Online Investment</td>\n",
       "      <td>New Delhi</td>\n",
       "      <td>Vinod Khatumal</td>\n",
       "      <td>Pre-series A</td>\n",
       "      <td>30,00,000</td>\n",
       "      <td>NaN</td>\n",
       "    </tr>\n",
       "    <tr>\n",
       "      <th>4</th>\n",
       "      <td>5</td>\n",
       "      <td>02/01/2020</td>\n",
       "      <td>Fashor</td>\n",
       "      <td>Fashion and Apparel</td>\n",
       "      <td>Embroiled Clothes For Women</td>\n",
       "      <td>Mumbai</td>\n",
       "      <td>Sprout Venture Partners</td>\n",
       "      <td>Seed Round</td>\n",
       "      <td>18,00,000</td>\n",
       "      <td>NaN</td>\n",
       "    </tr>\n",
       "    <tr>\n",
       "      <th>...</th>\n",
       "      <td>...</td>\n",
       "      <td>...</td>\n",
       "      <td>...</td>\n",
       "      <td>...</td>\n",
       "      <td>...</td>\n",
       "      <td>...</td>\n",
       "      <td>...</td>\n",
       "      <td>...</td>\n",
       "      <td>...</td>\n",
       "      <td>...</td>\n",
       "    </tr>\n",
       "    <tr>\n",
       "      <th>3039</th>\n",
       "      <td>3040</td>\n",
       "      <td>29/01/2015</td>\n",
       "      <td>Printvenue</td>\n",
       "      <td>NaN</td>\n",
       "      <td>NaN</td>\n",
       "      <td>NaN</td>\n",
       "      <td>Asia Pacific Internet Group</td>\n",
       "      <td>Private Equity</td>\n",
       "      <td>45,00,000</td>\n",
       "      <td>NaN</td>\n",
       "    </tr>\n",
       "    <tr>\n",
       "      <th>3040</th>\n",
       "      <td>3041</td>\n",
       "      <td>29/01/2015</td>\n",
       "      <td>Graphene</td>\n",
       "      <td>NaN</td>\n",
       "      <td>NaN</td>\n",
       "      <td>NaN</td>\n",
       "      <td>KARSEMVEN Fund</td>\n",
       "      <td>Private Equity</td>\n",
       "      <td>8,25,000</td>\n",
       "      <td>Govt backed VC Fund</td>\n",
       "    </tr>\n",
       "    <tr>\n",
       "      <th>3041</th>\n",
       "      <td>3042</td>\n",
       "      <td>30/01/2015</td>\n",
       "      <td>Mad Street Den</td>\n",
       "      <td>NaN</td>\n",
       "      <td>NaN</td>\n",
       "      <td>NaN</td>\n",
       "      <td>Exfinity Fund, GrowX Ventures.</td>\n",
       "      <td>Private Equity</td>\n",
       "      <td>15,00,000</td>\n",
       "      <td>NaN</td>\n",
       "    </tr>\n",
       "    <tr>\n",
       "      <th>3042</th>\n",
       "      <td>3043</td>\n",
       "      <td>30/01/2015</td>\n",
       "      <td>Simplotel</td>\n",
       "      <td>NaN</td>\n",
       "      <td>NaN</td>\n",
       "      <td>NaN</td>\n",
       "      <td>MakeMyTrip</td>\n",
       "      <td>Private Equity</td>\n",
       "      <td>NaN</td>\n",
       "      <td>Strategic Funding, Minority stake</td>\n",
       "    </tr>\n",
       "    <tr>\n",
       "      <th>3043</th>\n",
       "      <td>3044</td>\n",
       "      <td>31/01/2015</td>\n",
       "      <td>couponmachine.in</td>\n",
       "      <td>NaN</td>\n",
       "      <td>NaN</td>\n",
       "      <td>NaN</td>\n",
       "      <td>UK based Group of Angel Investors</td>\n",
       "      <td>Seed Funding</td>\n",
       "      <td>1,40,000</td>\n",
       "      <td>NaN</td>\n",
       "    </tr>\n",
       "  </tbody>\n",
       "</table>\n",
       "<p>3044 rows × 10 columns</p>\n",
       "</div>"
      ],
      "text/plain": [
       "      Sr No Date dd/mm/yyyy                  Startup Name  \\\n",
       "0         1      09/01/2020                        BYJU’S   \n",
       "1         2      13/01/2020                        Shuttl   \n",
       "2         3      09/01/2020                     Mamaearth   \n",
       "3         4      02/01/2020  https://www.wealthbucket.in/   \n",
       "4         5      02/01/2020                        Fashor   \n",
       "...     ...             ...                           ...   \n",
       "3039   3040      29/01/2015                    Printvenue   \n",
       "3040   3041      29/01/2015                      Graphene   \n",
       "3041   3042      30/01/2015                Mad Street Den   \n",
       "3042   3043      30/01/2015                     Simplotel   \n",
       "3043   3044      31/01/2015              couponmachine.in   \n",
       "\n",
       "        Industry Vertical                            SubVertical  \\\n",
       "0                  E-Tech                             E-learning   \n",
       "1          Transportation              App based shuttle service   \n",
       "2              E-commerce  Retailer of baby and toddler products   \n",
       "3                 FinTech                      Online Investment   \n",
       "4     Fashion and Apparel            Embroiled Clothes For Women   \n",
       "...                   ...                                    ...   \n",
       "3039                  NaN                                    NaN   \n",
       "3040                  NaN                                    NaN   \n",
       "3041                  NaN                                    NaN   \n",
       "3042                  NaN                                    NaN   \n",
       "3043                  NaN                                    NaN   \n",
       "\n",
       "     City  Location                     Investors Name       InvestmentnType  \\\n",
       "0         Bengaluru            Tiger Global Management  Private Equity Round   \n",
       "1           Gurgaon          Susquehanna Growth Equity              Series C   \n",
       "2         Bengaluru              Sequoia Capital India              Series B   \n",
       "3         New Delhi                     Vinod Khatumal          Pre-series A   \n",
       "4            Mumbai            Sprout Venture Partners            Seed Round   \n",
       "...             ...                                ...                   ...   \n",
       "3039            NaN        Asia Pacific Internet Group        Private Equity   \n",
       "3040            NaN                     KARSEMVEN Fund        Private Equity   \n",
       "3041            NaN     Exfinity Fund, GrowX Ventures.        Private Equity   \n",
       "3042            NaN                         MakeMyTrip        Private Equity   \n",
       "3043            NaN  UK based Group of Angel Investors          Seed Funding   \n",
       "\n",
       "     Amount in USD                            Remarks  \n",
       "0     20,00,00,000                                NaN  \n",
       "1        80,48,394                                NaN  \n",
       "2      1,83,58,860                                NaN  \n",
       "3        30,00,000                                NaN  \n",
       "4        18,00,000                                NaN  \n",
       "...            ...                                ...  \n",
       "3039     45,00,000                                NaN  \n",
       "3040      8,25,000                Govt backed VC Fund  \n",
       "3041     15,00,000                                NaN  \n",
       "3042           NaN  Strategic Funding, Minority stake  \n",
       "3043      1,40,000                                NaN  \n",
       "\n",
       "[3044 rows x 10 columns]"
      ]
     },
     "execution_count": 889,
     "metadata": {},
     "output_type": "execute_result"
    }
   ],
   "source": [
    "df"
   ]
  },
  {
   "cell_type": "markdown",
   "id": "8785655a-17a4-43f4-bf00-da5a4b6380e5",
   "metadata": {},
   "source": [
    "### Understanding Structure Of Dataset"
   ]
  },
  {
   "cell_type": "code",
   "execution_count": 892,
   "id": "24f30a06",
   "metadata": {
    "scrolled": true
   },
   "outputs": [
    {
     "name": "stdout",
     "output_type": "stream",
     "text": [
      "<class 'pandas.core.frame.DataFrame'>\n",
      "RangeIndex: 3044 entries, 0 to 3043\n",
      "Data columns (total 10 columns):\n",
      " #   Column             Non-Null Count  Dtype \n",
      "---  ------             --------------  ----- \n",
      " 0   Sr No              3044 non-null   int64 \n",
      " 1   Date dd/mm/yyyy    3044 non-null   object\n",
      " 2   Startup Name       3044 non-null   object\n",
      " 3   Industry Vertical  2873 non-null   object\n",
      " 4   SubVertical        2108 non-null   object\n",
      " 5   City  Location     2864 non-null   object\n",
      " 6   Investors Name     3020 non-null   object\n",
      " 7   InvestmentnType    3040 non-null   object\n",
      " 8   Amount in USD      2084 non-null   object\n",
      " 9   Remarks            419 non-null    object\n",
      "dtypes: int64(1), object(9)\n",
      "memory usage: 237.9+ KB\n"
     ]
    }
   ],
   "source": [
    "df.info()"
   ]
  },
  {
   "cell_type": "markdown",
   "id": "2f38860b-7f2b-425d-bc96-bc097a48b6af",
   "metadata": {},
   "source": [
    "### Checking for Null Values"
   ]
  },
  {
   "cell_type": "code",
   "execution_count": 895,
   "id": "822c104f",
   "metadata": {},
   "outputs": [
    {
     "data": {
      "text/plain": [
       "Industry Vertical     171\n",
       "SubVertical           936\n",
       "City  Location        180\n",
       "Investors Name         24\n",
       "InvestmentnType         4\n",
       "Amount in USD         960\n",
       "Remarks              2625\n",
       "dtype: int64"
      ]
     },
     "execution_count": 895,
     "metadata": {},
     "output_type": "execute_result"
    }
   ],
   "source": [
    "df.isnull().sum()[df.isnull().sum()>0]"
   ]
  },
  {
   "cell_type": "code",
   "execution_count": 897,
   "id": "8b421b8f",
   "metadata": {},
   "outputs": [
    {
     "data": {
      "image/png": "[encoded data removed]",
      "text/plain": [
       "<Figure size 640x480 with 2 Axes>"
      ]
     },
     "metadata": {},
     "output_type": "display_data"
    }
   ],
   "source": [
    "sns.heatmap(df.isnull())\n",
    "plt.show()"
   ]
  },
  {
   "cell_type": "markdown",
   "id": "00573310-9553-4bfe-85f1-69d32037143a",
   "metadata": {},
   "source": [
    "### Setting Sr No as Index Column"
   ]
  },
  {
   "cell_type": "code",
   "execution_count": 900,
   "id": "db0baef6",
   "metadata": {},
   "outputs": [
    {
     "data": {
      "text/plain": [
       "3044"
      ]
     },
     "execution_count": 900,
     "metadata": {},
     "output_type": "execute_result"
    }
   ],
   "source": [
    "df['Sr No'].nunique()"
   ]
  },
  {
   "cell_type": "code",
   "execution_count": 902,
   "id": "30c4fd13",
   "metadata": {},
   "outputs": [
    {
     "name": "stdout",
     "output_type": "stream",
     "text": [
      "Set Sr No as Index\n"
     ]
    }
   ],
   "source": [
    "if df['Sr No'].nunique() == len(df):\n",
    "    df.set_index('Sr No', inplace=True)\n",
    "    print('Set Sr No as Index')\n",
    "else:\n",
    "    print('Contains Duplicate')"
   ]
  },
  {
   "cell_type": "markdown",
   "id": "8f90266c-9a19-426e-9fb4-578960d7e99b",
   "metadata": {},
   "source": [
    "### Dropping Unwanted Columns"
   ]
  },
  {
   "cell_type": "code",
   "execution_count": 905,
   "id": "f8889b25",
   "metadata": {},
   "outputs": [],
   "source": [
    "df = df.drop(columns = 'Remarks')"
   ]
  },
  {
   "cell_type": "code",
   "execution_count": 907,
   "id": "2d69792f",
   "metadata": {},
   "outputs": [
    {
     "data": {
      "text/plain": [
       "Index(['Date dd/mm/yyyy', 'Startup Name', 'Industry Vertical', 'SubVertical',\n",
       "       'City  Location', 'Investors Name', 'InvestmentnType', 'Amount in USD'],\n",
       "      dtype='object')"
      ]
     },
     "execution_count": 907,
     "metadata": {},
     "output_type": "execute_result"
    }
   ],
   "source": [
    "df.columns"
   ]
  },
  {
   "cell_type": "markdown",
   "id": "7805bcf6-22d4-4b84-b33d-9bc2a21a46ac",
   "metadata": {},
   "source": [
    "### Renaming the Columns"
   ]
  },
  {
   "cell_type": "code",
   "execution_count": 910,
   "id": "40b41501",
   "metadata": {},
   "outputs": [],
   "source": [
    "df.rename(columns = {'Sr No':'Index',\n",
    "                     'Date dd/mm/yyyy':'Date',\n",
    "                     'Startup Name':'Startup',\n",
    "                     'Industry Vertical':'Vertical',\n",
    "                     'City  Location':'City',\n",
    "                     'Investors Name':'Investor',\n",
    "                     'InvestmentnType':'Investment Round',\n",
    "                     'Amount in USD':'Amount in INR'\n",
    "                    },inplace=True)"
   ]
  },
  {
   "cell_type": "code",
   "execution_count": 912,
   "id": "bfe7ed65",
   "metadata": {},
   "outputs": [
    {
     "data": {
      "text/plain": [
       "Vertical            171\n",
       "SubVertical         936\n",
       "City                180\n",
       "Investor             24\n",
       "Investment Round      4\n",
       "Amount in INR       960\n",
       "dtype: int64"
      ]
     },
     "execution_count": 912,
     "metadata": {},
     "output_type": "execute_result"
    }
   ],
   "source": [
    "df.isnull().sum()[df.isnull().sum()>0]"
   ]
  },
  {
   "cell_type": "markdown",
   "id": "4c59bb17-3f18-4a3c-94f2-bf6178028d46",
   "metadata": {},
   "source": [
    "### Cleaning and Standardizing the Amount Column"
   ]
  },
  {
   "cell_type": "code",
   "execution_count": 915,
   "id": "f7ef4f7a",
   "metadata": {
    "scrolled": true
   },
   "outputs": [
    {
     "data": {
      "text/plain": [
       "array(['20,00,00,000', '80,48,394', '1,83,58,860', '30,00,000',\n",
       "       '18,00,000', '90,00,000', '15,00,00,000', '60,00,000',\n",
       "       '7,00,00,000', '5,00,00,000', '2,00,00,000', '1,20,00,000',\n",
       "       '3,00,00,000', '59,00,000', '20,00,000', '23,10,00,000',\n",
       "       '4,86,000', '15,00,000', 'undisclosed', '2,60,00,000',\n",
       "       '1,74,11,265', '13,00,000', '13,50,00,000', '3,00,000',\n",
       "       '22,00,00,000', '1,58,00,000', '28,30,00,000', '1,00,00,00,000',\n",
       "       '4,50,00,000', '58,50,00,000', 'unknown', '45,00,000', '33,00,000',\n",
       "       '50,00,000', '1,80,00,000', '10,00,000', '1,00,00,000',\n",
       "       '45,00,00,000', '16,00,000', '14,00,00,000', '3,80,80,000',\n",
       "       '12,50,00,000', '1,10,00,000', '5,10,00,000', '3,70,00,000',\n",
       "       '5,00,000', '11,00,00,000', '1,50,00,000', '65,90,000',\n",
       "       'Undisclosed', '3,90,00,00,000', '1,90,00,000', '25,00,000',\n",
       "       '1,45,000', '6,00,00,000', '1,60,00,000', '57,50,000', '3,19,605',\n",
       "       '48,89,975.54', '7,50,00,000', '27,39,034.68', '1,51,09,500.00',\n",
       "       '4,30,200', '1,55,00,000', '5,20,00,000', '35,84,000', '34,00,000',\n",
       "       '8,68,600', '1,15,00,000', '56,00,000', '1,70,00,000', '4,30,665',\n",
       "       '35,91,375', '2,00,000', '35,00,000', '63,20,820', '24,43,495',\n",
       "       '3,07,000', '14,342,000+', '22,60,00,000', '6,00,000',\n",
       "       '10,00,00,000', '2,20,00,000', '7,00,000', '8,00,000', '5,72,000',\n",
       "       '1,43,000', '1,38,995', '2,77,99,000', '30,00,00,000', '2,78,000',\n",
       "       '3,10,00,000', '2,95,00,000', '4,20,00,000', '17,00,000', nan,\n",
       "       '82,00,000', '40,00,000', '1,46,80,000', '3,50,00,000',\n",
       "       '22,50,00,000', '63,90,000', '15,72,00,000', '3,20,00,000',\n",
       "       '55,00,000', '4,00,000', '70,00,000', '1,20,000', '1,22,00,000',\n",
       "       '6,60,00,000', '80,00,000', '1,14,811', '58,50,000', '48,00,000',\n",
       "       '1,42,70,000', '1,34,00,000', '42,00,000', '60,00,00,000',\n",
       "       '62,50,000', '2,77,00,000', '4,40,000', '11,00,000', '4,37,000',\n",
       "       '1,80,000', '1,75,000', '2,90,00,000', '4,97,00,000', '2,80,000',\n",
       "       '4,36,000', '12,50,000', '12,00,00,000', '1,25,000', '2,30,00,000',\n",
       "       '2,15,00,000', '1,48,00,000', '1,01,00,000', '3,000,00',\n",
       "       '4,50,000', '34,50,000', '2,10,00,000', '91,00,000', '89,50,000',\n",
       "       '2,25,000', '9,49,000', '2,40,00,000', '4200000', '7,35,000',\n",
       "       '2,93,000', '1,40,00,000', '13,000,00', '3,07,600', '5,50,00,000',\n",
       "       '1,50,000', '28,00,000', '1,000,000,', '46,140', '46,000,00',\n",
       "       '11,000,00', '19,00,000', '2,46,000', '75,00,000', '9,78,000',\n",
       "       '2,50,000', '21,00,000', '97,00,000', '76,00,000', '3,84,00,000',\n",
       "       '8,20,00,000', '1,72,00,000', '6,20,00,000', '13,10,000',\n",
       "       '7,68,000', '12,40,000', '5,35,000', '43,00,000', '31,00,000',\n",
       "       '68,30,000', '8,70,00,000', '9,35,089', '3,11,200', '1,35,00,000',\n",
       "       '1,00,000', '1,48,434', '62,30,000', '38,00,000', '7,72,500',\n",
       "       '10,40,000', '11,50,00,000', '14,00,000', '1,57,00,000',\n",
       "       '47,00,000', '19,30,000', '1,88,40,000', '2,35,00,000',\n",
       "       '3,62,30,000', '80,000', '3,54,600', '2,50,00,000', '1,82,00,000',\n",
       "       '32,00,000', '4,70,00,000', '86,00,000', '62,40,000', '74,00,000',\n",
       "       '44,00,000', '1,23,00,000', '7,50,000', '23,00,000', '50,000',\n",
       "       '12,00,000', '1,75,00,000', '2,33,000', '2,70,00,000', '72,00,000',\n",
       "       '5,37,000', '27,00,000', '95,00,000', '1,95,00,000', '5,70,000',\n",
       "       '36,00,000', '8,72,000', '82,50,000', '9,00,000', '6,92,000',\n",
       "       '3,29,230', '27,00,00,000', '39,000', '1,30,00,000', '13,50,000',\n",
       "       '3,06,000', '3,87,00,000', '92,00,000', '3,36,000', '2,35,000',\n",
       "       '7,70,00,000', '77,00,000', '1,18,000', '7,22,000', '5,50,000',\n",
       "       '1,07,50,000', '25,00,00,000', '7,80,000', '69,00,000',\n",
       "       '62,00,000', '4,40,00,000', '1,54,00,000', '4,22,000', '8,50,000',\n",
       "       '2,43,000', '2,20,000', '7,83,000', '2,50,00,00,000',\n",
       "       '3,60,00,000', '3,12,000', '3,85,000', '1,87,000', '68,00,000',\n",
       "       '7,34,000', '8,00,00,000', '3,40,00,000', '26,00,000', '85,00,000',\n",
       "       '22,50,000', '4,64,000', '1,85,00,000', '5,40,000', '2,34,000',\n",
       "       '6,50,000', '2,32,000', '3,50,000', '78,00,000', '7,76,000',\n",
       "       '1,25,00,000', '52,00,000', '24,00,000', '2,15,000', '46,00,000',\n",
       "       '7,10,00,000', '3,11,000', '7,37,00,000', '3,90,000',\n",
       "       '10,45,00,000', '4,66,000', '53,00,000', '1,40,00,00,000',\n",
       "       '66,00,000', '5,80,000', '4,00,00,000', '61,00,000', '36,90,000',\n",
       "       '26,00,00,000', '3,10,000', '6,20,000', '46,50,000', '1,55,000',\n",
       "       '63,00,000', '2,45,000', '33,00,00,000', '2,75,000', '67,00,000',\n",
       "       '17,90,000', '30,000', '36,50,000', '4,43,000', '33,50,000',\n",
       "       '36,70,000', '1,91,000', '5,60,00,000', '3,82,000', '3,25,000',\n",
       "       '40,000', '58,00,000', '3,30,000', '2,24,00,000', '65,00,000',\n",
       "       '1,52,00,000', '3,75,000', '94,000', '3,66,000', '8,25,000',\n",
       "       '5,70,00,000', '41,00,000', '4,41,000', '1,47,000', '22,00,000',\n",
       "       '88,00,000', '1,06,000', '22,500', '68,000', '18,000',\n",
       "       '1,11,00,000', '2,97,000', '1,23,000', '1,62,000', '3,24,000',\n",
       "       '45,000', '90,000', '9,63,000', '2,18,000', '37,50,000',\n",
       "       '10,50,000', '25,000', '2,27,000', '9,71,000', '3,15,000',\n",
       "       '6,70,000', '4,48,000', '3,13,00,000', '2,98,000', '4,25,000',\n",
       "       '7,45,000', '15,80,000', '8,90,000', '27,000', '4,45,000',\n",
       "       '2,09,000', '1,56,00,000', '17,50,00,000', '6,75,000', '1,49,000',\n",
       "       '1,04,000', '7,40,000', '19,50,000', '1,22,50,000', '10,70,000',\n",
       "       '5,95,000', '75,000', '2,10,000', '1,48,000', '2,95,000',\n",
       "       '3,68,000', '3,76,000', '27,50,000', '89,000', '4,75,000',\n",
       "       '89,00,000', '2,23,608', '1,49,00,000', '2,30,000', '1,08,000',\n",
       "       '3,60,000', '81,000', '52,000', '9,70,000', '73,000', '37,000',\n",
       "       '1,60,000', '70,000', '18,00,00,000', '54,00,000', '1,65,00,000',\n",
       "       '14,50,00,000', '2,40,000', '5,20,000', '5,15,000', '3,70,000',\n",
       "       '1,85,000', '51,50,000', '2,25,00,000', '3,03,000', '3,20,000',\n",
       "       '1,66,00,000', '4,60,000', '4,90,000', '37,00,000', '5,30,000',\n",
       "       '50,00,00,000', '4,55,000', '3,05,000', '1,10,000', '14,50,000',\n",
       "       '77,000', '1,90,000', '29,50,000', '15,30,000', '6,40,000',\n",
       "       '1,30,000', '2,60,000', '2,05,000', '7,70,000', '42,50,000',\n",
       "       '4,10,000', '11,50,000', '3,75,00,000', '17,50,000',\n",
       "       '68,00,00,000', '96,00,000', '7,85,000', '9,00,00,000', '6,30,000',\n",
       "       '6,30,00,000', '1,56,000', '1,61,000', '3,95,000', '20,000',\n",
       "       '4,70,000', '1,02,00,000', '\\\\\\\\xc2\\\\\\\\xa020,000,000',\n",
       "       '\\\\\\\\xc2\\\\\\\\xa016,200,000', '\\\\\\\\xc2\\\\\\\\xa0N/A',\n",
       "       '\\\\\\\\xc2\\\\\\\\xa0600,000', '\\\\\\\\xc2\\\\\\\\xa0685,000',\n",
       "       '\\\\\\\\xc2\\\\\\\\xa019,350,000', '\\\\\\\\xc2\\\\\\\\xa05,000,000',\n",
       "       '\\\\\\\\xc2\\\\\\\\xa010,000,000', '7,90,000', '48,50,000', '1,27,50,000',\n",
       "       '70,00,00,000', '1,68,000', '13,70,00,000', '1,40,000',\n",
       "       '8,50,00,000', '2,70,000', '6,25,000', '1,65,000', '40,00,00,000',\n",
       "       '2,80,00,000', '1,66,000', '1,15,000', '16,600', '5,18,000',\n",
       "       '41,50,000', '2,90,000', '21,50,000', '3,80,000', '1,35,000',\n",
       "       '2,85,000', '30,768', '16,000', '1,47,50,000', '32,50,000'],\n",
       "      dtype=object)"
      ]
     },
     "execution_count": 915,
     "metadata": {},
     "output_type": "execute_result"
    }
   ],
   "source": [
    "df['Amount in INR'].unique()"
   ]
  },
  {
   "cell_type": "code",
   "execution_count": 917,
   "id": "a39e38dd",
   "metadata": {},
   "outputs": [],
   "source": [
    "df['Amount in INR'] = df['Amount in INR'].fillna('0')\n",
    "\n",
    "df['Amount in INR'] = df['Amount in INR'].str.replace(',', '', regex=False)\n",
    "df['Amount in INR'] = df['Amount in INR'].str.replace(r'^\\\\\\\\xc2\\\\\\\\xa0', '', regex=True)\n",
    "\n",
    "\n",
    "\n",
    "df['Amount in INR'] = df['Amount in INR'].replace(\n",
    "    r'[^\\d.]|undisclosed|unknown|Undisclosed|\\\\xc2\\\\xa0N/A|nan|N/A', '0', regex=True\n",
    ")\n",
    " \n",
    "\n",
    "df['Amount in INR'] = df['Amount in INR'].str.rstrip('+')\n",
    "\n",
    "df['Amount in INR'] = df['Amount in INR'].astype(float)\n"
   ]
  },
  {
   "cell_type": "code",
   "execution_count": 919,
   "id": "07660437",
   "metadata": {},
   "outputs": [],
   "source": [
    "df['Amount in INR'] = ((df['Amount in INR']*86.41)/10000000).round(2)"
   ]
  },
  {
   "cell_type": "code",
   "execution_count": 921,
   "id": "b80fdcd7",
   "metadata": {},
   "outputs": [
    {
     "data": {
      "text/plain": [
       "Sr No\n",
       "1909      0.19\n",
       "454      51.85\n",
       "1699      1.30\n",
       "1982     25.92\n",
       "1477      0.00\n",
       "1475      7.78\n",
       "12      103.69\n",
       "1695      0.00\n",
       "2807      2.07\n",
       "2368      0.00\n",
       "Name: Amount in INR, dtype: float64"
      ]
     },
     "execution_count": 921,
     "metadata": {},
     "output_type": "execute_result"
    }
   ],
   "source": [
    "df['Amount in INR'].sample(10)"
   ]
  },
  {
   "cell_type": "markdown",
   "id": "3bb6ff26-66f9-4b6f-8458-1195fc636fb9",
   "metadata": {},
   "source": [
    "### Cleaning Date Column"
   ]
  },
  {
   "cell_type": "code",
   "execution_count": 923,
   "id": "a8569e06",
   "metadata": {},
   "outputs": [
    {
     "data": {
      "text/plain": [
       "Sr No\n",
       "193               05/072018\n",
       "2572              01/07/015\n",
       "2607    \\\\xc2\\\\xa010/7/2015\n",
       "2776             12/05.2015\n",
       "2777             12/05.2015\n",
       "2832             13/04.2015\n",
       "3012             15/01.2015\n",
       "3030            22/01//2015\n",
       "Name: Date, dtype: object"
      ]
     },
     "execution_count": 923,
     "metadata": {},
     "output_type": "execute_result"
    }
   ],
   "source": [
    "invalid_dates = df[~pd.to_datetime(df['Date'],dayfirst = True, errors ='coerce').notnull()]\n",
    "invalid_dates['Date']\n"
   ]
  },
  {
   "cell_type": "code",
   "execution_count": 925,
   "id": "6d5cc715",
   "metadata": {},
   "outputs": [],
   "source": [
    "df['Date'] = df['Date'].replace({\n",
    "    '05/072018':'05/07/2018',\n",
    "    '01/07/015':'01/07/2015',\n",
    "    r'\\\\xc2\\\\xa010/7/2015':'10/07/2015',\n",
    "    '22/01//2015':'22/01/2015',\n",
    "    '12/05.2015':'12/05/2015',\n",
    "    '13/04.2015':'13/04/2015',\n",
    "    '15/01.2015':'15/01/2015'\n",
    "})\n",
    "\n"
   ]
  },
  {
   "cell_type": "code",
   "execution_count": 927,
   "id": "449faf08",
   "metadata": {},
   "outputs": [],
   "source": [
    "df['Date'] = pd.to_datetime(df['Date'], dayfirst=True, errors='coerce')"
   ]
  },
  {
   "cell_type": "markdown",
   "id": "0f29a1ab-5ac0-4aee-836c-6825c40e9411",
   "metadata": {},
   "source": [
    "### Filling the Null Values"
   ]
  },
  {
   "cell_type": "code",
   "execution_count": 930,
   "id": "ee6b49fe",
   "metadata": {},
   "outputs": [],
   "source": [
    "df['Vertical'] = df['Vertical'].fillna('Others')\n",
    "df['SubVertical'] = df['SubVertical'].fillna('Unknown')\n",
    "df['Investor'] = df['Investor'].fillna('Undisclosed')\n",
    "df['Investment Round'] = df['Investment Round'].fillna('Undisclosed')\n"
   ]
  },
  {
   "cell_type": "markdown",
   "id": "83158d66-a152-491b-a50a-2774ca9f0304",
   "metadata": {},
   "source": [
    "### Cleaning & Standardization City Column"
   ]
  },
  {
   "cell_type": "code",
   "execution_count": 933,
   "id": "fb208f64",
   "metadata": {},
   "outputs": [],
   "source": [
    "df['City'] = df['City'].str.replace(r'^\\\\\\\\xc2\\\\\\\\xa0','',regex=True)\n",
    "\n",
    "df['City'] = df['City'].replace('nan','Undisclosed')\n",
    "\n",
    "df['City'] = df['City'].fillna('Undisclosed')"
   ]
  },
  {
   "cell_type": "code",
   "execution_count": 935,
   "id": "d6d175a6",
   "metadata": {},
   "outputs": [],
   "source": [
    "df['City'] = df['City'].replace(\n",
    "    [\n",
    "        'Bengaluru', \"Bengaluru'\", 'Mumbai/Bengaluru', 'Karnataka', \n",
    "        'New York/ India', 'Bangalore / USA', 'Boston', 'Bangalore / Palo Alto', 'US'\n",
    "    ], \n",
    "    'Bangalore'\n",
    ")\n",
    "\n",
    "\n",
    "df['City'] = df['City'].replace(\n",
    "    ['Andheri', 'Chembur', 'India', 'Uttar Pradesh', 'US/India', 'Mumbai / NY'], \n",
    "    'Mumbai'\n",
    ")\n",
    "\n",
    "\n",
    "df['City'] = df['City'].replace(\n",
    "    ['Pune / Singapore', 'Pune/Seattle'], \n",
    "    'Pune'\n",
    ")\n",
    "\n",
    "\n",
    "df['City'] = df['City'].replace(\n",
    "    ['Noida / Singapore', 'USA', 'Bangalore/ Bangkok', 'Seattle / Bangalore', 'New Delhi/ Houston'], \n",
    "    'Undisclosed'\n",
    ")\n",
    "\n",
    "\n",
    "df['City'] = df['City'].replace(\n",
    "    ['India / US', 'Gurgaon / SFO', 'Bengaluru and Gurugram', 'Gurugram'], \n",
    "    'Gurgaon'\n",
    ")\n",
    "\n",
    "df['City'] = df['City'].replace(\n",
    "    ['Ahemadabad', 'Ahemdabad'],\n",
    "    'Ahmedabad'\n",
    ")\n",
    "\n",
    "df['City'] = df['City'].replace({\n",
    "    'Kormangala': 'Koramangala',\n",
    "    'Palo Alto': 'Chennai',\n",
    "    'Bhubneswar': 'Bhubaneswar',\n",
    "    'Kolkatta': 'Kolkata',\n",
    "    'Nw Delhi': 'Delhi',\n",
    "    'Hubli': 'Hubballi',\n",
    "    'Kerala': 'Thiruvananthapuram',\n",
    "    'Goa/Hyderabad': 'Verna',\n",
    "    'Belgaum': 'Belagavi',\n",
    "    'Mumbai / Global': 'Trivandrum',\n",
    "    'Hyderabad/USA': 'Hyderabad',\n",
    "    'New Delhi': 'Delhi'\n",
    "})\n",
    "\n",
    "\n",
    "\n",
    "df.loc[2070, 'City'] = 'Pune'\n",
    "df.loc[2256, 'City'] = 'Pune'\n",
    "df.loc[63, 'City'] = 'Delhi'\n",
    "df.loc[69, 'City'] = 'Noida'\n",
    "df.loc[2293, 'City'] = 'Mumbai'\n",
    "\n",
    "df['City'] = df['City'].replace([\n",
    "    'San Jose', 'Menlo Park', 'Burnsville', 'Santa Monica', 'Nairobi', 'Singapore', 'New York',\n",
    "    'India/USA', \"'New York'\", 'California', 'Delhi & Cambridge', 'Missourie', 'Mumbai / UK',\n",
    "    'SFO / Bangalore', 'London', 'Pune / Dubai', 'Bangalore / SFO', 'USA/India', 'Pune / US',\n",
    "    'Chennai/ Singapore', 'Bangalore / San Mateo', 'Dallas / Hyderabad', 'Singapore', 'Mumbai / NY',\n",
    "    'New Delhi / US', 'New Delhi / California', 'San Francisco', 'India/Singapore', 'India/US', 'San Jose,',\"'New York, Bengaluru'\"\n",
    "], 'Out of India')\n",
    "\n",
    "\n"
   ]
  },
  {
   "cell_type": "code",
   "execution_count": 937,
   "id": "b9ff2935",
   "metadata": {},
   "outputs": [
    {
     "data": {
      "text/plain": [
       "array(['Bangalore', 'Gurgaon', 'Delhi', 'Mumbai', 'Chennai', 'Pune',\n",
       "       'Noida', 'Faridabad', 'Out of India', 'Amritsar', 'Koramangala',\n",
       "       'Tulangan', 'Hyderabad', 'Taramani', 'Haryana', 'Bhopal', 'Jaipur',\n",
       "       'Nagpur', 'Indore', 'New York, Bengaluru', 'Ahmedabad', 'Rourkela',\n",
       "       'Srinagar', 'Bhubaneswar', 'Chandigarh', 'Kolkata', 'Coimbatore',\n",
       "       'Udaipur', 'Undisclosed', 'Surat', 'Goa', 'Gaya', 'Vadodara',\n",
       "       'Trivandrum', 'Panaji', 'Gwalior', 'Karur', 'Udupi', 'Kochi',\n",
       "       'Agra', 'Hubballi', 'Thiruvananthapuram', 'Kozhikode', 'Siliguri',\n",
       "       'Lucknow', 'Kanpur', 'Varanasi', 'Jodhpur', 'Verna', 'Belagavi'],\n",
       "      dtype=object)"
      ]
     },
     "execution_count": 937,
     "metadata": {},
     "output_type": "execute_result"
    }
   ],
   "source": [
    "df['City'].unique()"
   ]
  },
  {
   "cell_type": "code",
   "execution_count": 939,
   "id": "0e505fe4-ca71-4319-85f2-2102ce5312ef",
   "metadata": {},
   "outputs": [
    {
     "data": {
      "text/html": [
       "<div>\n",
       "<style scoped>\n",
       "    .dataframe tbody tr th:only-of-type {\n",
       "        vertical-align: middle;\n",
       "    }\n",
       "\n",
       "    .dataframe tbody tr th {\n",
       "        vertical-align: top;\n",
       "    }\n",
       "\n",
       "    .dataframe thead th {\n",
       "        text-align: right;\n",
       "    }\n",
       "</style>\n",
       "<table border=\"1\" class=\"dataframe\">\n",
       "  <thead>\n",
       "    <tr style=\"text-align: right;\">\n",
       "      <th></th>\n",
       "      <th>Date</th>\n",
       "      <th>Startup</th>\n",
       "      <th>Vertical</th>\n",
       "      <th>SubVertical</th>\n",
       "      <th>City</th>\n",
       "      <th>Investor</th>\n",
       "      <th>Investment Round</th>\n",
       "      <th>Amount in INR</th>\n",
       "    </tr>\n",
       "    <tr>\n",
       "      <th>Sr No</th>\n",
       "      <th></th>\n",
       "      <th></th>\n",
       "      <th></th>\n",
       "      <th></th>\n",
       "      <th></th>\n",
       "      <th></th>\n",
       "      <th></th>\n",
       "      <th></th>\n",
       "    </tr>\n",
       "  </thead>\n",
       "  <tbody>\n",
       "    <tr>\n",
       "      <th>132</th>\n",
       "      <td>2018-11-12</td>\n",
       "      <td>Blackbuck</td>\n",
       "      <td>Food Tech</td>\n",
       "      <td>POS For Online Ordering</td>\n",
       "      <td>New York, Bengaluru</td>\n",
       "      <td>Tiger Global</td>\n",
       "      <td>Series A</td>\n",
       "      <td>8.64</td>\n",
       "    </tr>\n",
       "  </tbody>\n",
       "</table>\n",
       "</div>"
      ],
      "text/plain": [
       "            Date    Startup   Vertical              SubVertical  \\\n",
       "Sr No                                                             \n",
       "132   2018-11-12  Blackbuck  Food Tech  POS For Online Ordering   \n",
       "\n",
       "                      City      Investor Investment Round  Amount in INR  \n",
       "Sr No                                                                     \n",
       "132    New York, Bengaluru  Tiger Global         Series A           8.64  "
      ]
     },
     "execution_count": 939,
     "metadata": {},
     "output_type": "execute_result"
    }
   ],
   "source": [
    "df[df['City'].str.contains('New')]"
   ]
  },
  {
   "cell_type": "code",
   "execution_count": 941,
   "id": "a718b49e-22c6-4227-8d27-21cba02ff0c8",
   "metadata": {},
   "outputs": [],
   "source": [
    "df.loc[132, 'City'] = 'Out of India'"
   ]
  },
  {
   "cell_type": "code",
   "execution_count": 943,
   "id": "9ca646af-65de-4e8c-9488-8be2de2e31a8",
   "metadata": {},
   "outputs": [
    {
     "data": {
      "text/plain": [
       "array(['Bangalore', 'Gurgaon', 'Delhi', 'Mumbai', 'Chennai', 'Pune',\n",
       "       'Noida', 'Faridabad', 'Out of India', 'Amritsar', 'Koramangala',\n",
       "       'Tulangan', 'Hyderabad', 'Taramani', 'Haryana', 'Bhopal', 'Jaipur',\n",
       "       'Nagpur', 'Indore', 'Ahmedabad', 'Rourkela', 'Srinagar',\n",
       "       'Bhubaneswar', 'Chandigarh', 'Kolkata', 'Coimbatore', 'Udaipur',\n",
       "       'Undisclosed', 'Surat', 'Goa', 'Gaya', 'Vadodara', 'Trivandrum',\n",
       "       'Panaji', 'Gwalior', 'Karur', 'Udupi', 'Kochi', 'Agra', 'Hubballi',\n",
       "       'Thiruvananthapuram', 'Kozhikode', 'Siliguri', 'Lucknow', 'Kanpur',\n",
       "       'Varanasi', 'Jodhpur', 'Verna', 'Belagavi'], dtype=object)"
      ]
     },
     "execution_count": 943,
     "metadata": {},
     "output_type": "execute_result"
    }
   ],
   "source": [
    "df['City'].unique()"
   ]
  },
  {
   "cell_type": "markdown",
   "id": "a5acc388-2382-4384-ade1-6624c42563bc",
   "metadata": {},
   "source": [
    "### Cleaning the Investmnt Round Column "
   ]
  },
  {
   "cell_type": "code",
   "execution_count": 946,
   "id": "fb748929",
   "metadata": {},
   "outputs": [],
   "source": [
    "df['Investment Round'] = df['Investment Round'].replace(\n",
    "    ['Private\\\\\\\\nEquity', 'Private Equity Round', 'PrivateEquity', 'Private', 'Private Funding', 'Private\\\\nEquity'],\n",
    "    'Private Equity'\n",
    ")\n",
    "\n",
    "df['Investment Round'] = df['Investment Round'].replace(\n",
    "    ['Debt-Funding', 'Debt'],\n",
    "    'Debt Funding'\n",
    ")\n",
    "\n",
    "df['Investment Round'] = df['Investment Round'].replace(\n",
    "    ['Venture', 'Venture - Series Unknown'],\n",
    "    'Venture Round'\n",
    ")\n",
    "\n",
    "df['Investment Round'] = df['Investment Round'].replace(\n",
    "    ['Seed Funding Round', 'Seed funding', 'Seed\\\\\\\\nFunding','Seed Round','Seed'],\n",
    "    'Seed Funding'\n",
    ")\n",
    "\n",
    "df['Investment Round'] = df['Investment Round'].replace(\n",
    "    ['pre-series A', 'pre-Series A', 'Pre Series A','Pre-series A'],\n",
    "    'Pre-Series A'\n",
    ")\n",
    "\n",
    "df['Investment Round'] = df['Investment Round'].replace(\n",
    "    ['Angel Funding', 'Angel'],\n",
    "    'Angel Round'\n",
    ")\n",
    "\n",
    "df['Investment Round'] = df['Investment Round'].replace(\n",
    "    ['Seed/ Angel Funding', 'Seed / Angle Funding', 'Angel / Seed Funding','Seed / Angel Funding'],\n",
    "    'Seed/Angel Funding'\n",
    ")\n",
    "\n",
    "df['Investment Round'] = df['Investment Round'].replace(\n",
    "    ['Equity', 'Equity Based Funding'],\n",
    "    'Equity Round'\n",
    ")\n",
    "\n",
    "df['Investment Round'] = df['Investment Round'].replace(\n",
    "    'Term Loa',\n",
    "    'Term Loan'\n",
    ")\n",
    "\n",
    "df['Investment Round'] = df['Investment Round'].replace(\n",
    "    'Crowd funding',\n",
    "    'Crowd Funding'\n",
    ")\n"
   ]
  },
  {
   "cell_type": "code",
   "execution_count": 948,
   "id": "28ceaac9-edac-40cf-9361-a7c4a4f04c88",
   "metadata": {},
   "outputs": [
    {
     "data": {
      "text/plain": [
       "array(['Private Equity', 'Series C', 'Series B', 'Pre-Series A',\n",
       "       'Seed Funding', 'Series A', 'Series D', 'Series F', 'Series E',\n",
       "       'Debt Funding', 'Series G', 'Series H', 'Venture Round',\n",
       "       'Undisclosed', 'Funding Round', 'Corporate Round', 'Maiden Round',\n",
       "       'Single Venture', 'Angel Round', 'Series J', 'Bridge Round',\n",
       "       'Debt and Preference capital', 'Inhouse Funding',\n",
       "       'Seed/Angel Funding', 'Equity Round', 'Mezzanine',\n",
       "       'Series B (Extension)', 'Structured Debt', 'Term Loan',\n",
       "       'Crowd Funding'], dtype=object)"
      ]
     },
     "execution_count": 948,
     "metadata": {},
     "output_type": "execute_result"
    }
   ],
   "source": [
    "df['Investment Round'].unique()"
   ]
  },
  {
   "cell_type": "code",
   "execution_count": 950,
   "id": "4ed6d0e2-b2d2-422f-a6eb-3fede2643767",
   "metadata": {},
   "outputs": [
    {
     "data": {
      "text/plain": [
       "Investment Round\n",
       "Angel Round                       3\n",
       "Bridge Round                      1\n",
       "Corporate Round                   2\n",
       "Crowd Funding                     2\n",
       "Debt Funding                     27\n",
       "Debt and Preference capital       1\n",
       "Equity Round                      3\n",
       "Funding Round                     1\n",
       "Inhouse Funding                   1\n",
       "Maiden Round                      1\n",
       "Mezzanine                         1\n",
       "Pre-Series A                      9\n",
       "Private Equity                 1364\n",
       "Seed Funding                   1398\n",
       "Seed/Angel Funding              141\n",
       "Series A                         24\n",
       "Series B                         20\n",
       "Series B (Extension)              1\n",
       "Series C                         14\n",
       "Series D                         12\n",
       "Series E                          2\n",
       "Series F                          2\n",
       "Series G                          1\n",
       "Series H                          1\n",
       "Series J                          1\n",
       "Single Venture                    1\n",
       "Structured Debt                   1\n",
       "Term Loan                         1\n",
       "Undisclosed                       4\n",
       "Venture Round                     4\n",
       "Name: count, dtype: int64"
      ]
     },
     "execution_count": 950,
     "metadata": {},
     "output_type": "execute_result"
    }
   ],
   "source": [
    "df['Investment Round'].value_counts().sort_index()"
   ]
  },
  {
   "cell_type": "markdown",
   "id": "5e54d72b-0d23-48f1-ab3f-2c6addfa9d2f",
   "metadata": {
    "scrolled": true
   },
   "source": [
    "### Finding unwanted strings in Investor, Vertical and SubVertical Column"
   ]
  },
  {
   "cell_type": "code",
   "execution_count": 953,
   "id": "2e9f69b7",
   "metadata": {
    "scrolled": true
   },
   "outputs": [
    {
     "data": {
      "text/plain": [
       "['India Quotient and LetsVenture\\\\\\\\xe2\\\\\\\\x80\\\\\\\\x99s Angel Fund',\n",
       " 'Sequoia India, Hillhouse Capital, Alphabet\\\\\\\\xe2\\\\\\\\x80\\\\\\\\x99s growth investment arm Capital G and Axis Bank',\n",
       " 'Norwest Venture Partners, CDC Group, the UK\\\\\\\\xe2\\\\\\\\x80\\\\\\\\x99s Development Finance Institution and P Surendra Pai',\n",
       " 'Lakestar and Jungle Ventures, Softbank\\\\\\\\xe2\\\\\\\\x80\\\\\\\\x99s DeepCore.',\n",
       " 'DST Global and Lightspeed Venture Partners\\\\\\\\xe2\\\\\\\\x80\\\\\\\\x99 global fund.',\n",
       " 'KDDI\\\\\\\\xc2\\\\\\\\xa0',\n",
       " 'CLP Holdings Group, Innogy, \\\\\\\\xc3\\\\\\\\x98rstead, and Tenaska',\n",
       " 'Vertex Ventures Southeast Asia (SEA) and India and Sistema Asia Fund, Fosun RZ Capital, Ventureast, and Endiya Partners.\\\\\\\\n\\\\\\\\n',\n",
       " 'CDC Group plc\\\\\\\\xc2\\\\\\\\xa0',\n",
       " 'Sunil Kant Munjal, Hero Electronix\\\\\\\\xe2\\\\\\\\x80\\\\\\\\x99s corporate financing arm, Electronic Development Fund',\n",
       " '\"Kedaraa Capital, Ontario Teachers\\\\\\\\\\'\"',\n",
       " 'Titan Co Ltd, Tata Group\\\\\\\\xe2\\\\\\\\x80\\\\\\\\x99s watch and jewellery retailing firm',\n",
       " 'Factor[e] Ventures',\n",
       " 'Undisclosed HNI\\\\\\\\xe2\\\\\\\\x80\\\\\\\\x99s',\n",
       " 'Accel Partners, IDG Ventures, Kalaari Capital,\\\\\\\\xc2\\\\\\\\xa0 UC-RNT fund',\n",
       " 'Falcon Edge Capital,\\\\\\\\xc2\\\\\\\\xa0 Capital Advisers',\n",
       " 'Vellayan Subbiah, Jonathan Boutelle, Rajan Anandan,\\\\\\\\xc2\\\\\\\\xa0 Rahul Chawla, Salil Donde, Amit Ranjan, Govind Rajan & Others',\n",
       " 'Lahiri Music\\\\\\\\xe2\\\\\\\\x80\\\\\\\\x99s family office',\n",
       " 'Labruyere Eberl\\\\\\\\xc3\\\\\\\\xa9',\n",
       " 'Accel Partners, Nandan Nilekani\\\\\\\\xe2\\\\\\\\x80\\\\\\\\x99s NRJN Trust, Mistletoe, Qualcomm Ventures, M&S Partners',\n",
       " 'L\\\\\\\\xe2\\\\\\\\x80\\\\\\\\x99Occitane',\n",
       " 'B Capital Group, Ignition Partners, Greycroft, e.ventures,\\\\\\\\xc2\\\\\\\\xa0 Eight Roads Ventures',\n",
       " 'Tencent,\\\\\\\\xc2\\\\\\\\xa0 ru-Net, RSI Fund, Thrive Capital',\n",
       " 'Sharad Sharma, Rajan Anandan,\\\\\\\\xc2\\\\\\\\xa0 Amit Ranjan, Alok Mittal & others',\n",
       " 'Venk Krishnan, MJ Aravind, Vikram Kotak, Jayant Davar,\\\\\\\\xc2\\\\\\\\xa0 Ramkumar Nishtal, Arjun Sharmaa',\n",
       " 'Indian Angel Network, Let\\\\\\\\xe2\\\\\\\\x80\\\\\\\\x99s Venture',\n",
       " 'RB Investments,\\\\\\\\xc2\\\\\\\\xa0 Kaleden Holdings',\n",
       " 'Delta Partners, Sequoia India,\\\\\\\\xc2\\\\\\\\xa0 Mayfield, Blacksoil, Trifecta Capital',\n",
       " 'Vijay Shekhar Sharma, Pravin Gandhi,\\\\\\\\xc2\\\\\\\\xa0 Smart Start Fund; Kunal Shah,\\\\\\\\xc2\\\\\\\\xa0 Sandeep Tandon, Vishal Gondal, & Others',\n",
       " 'GrowX Ventures, Sunil Kalra, Arun Venkatachalam,\\\\\\\\xc2\\\\\\\\xa0 Badal Malick',\n",
       " 'ByteDance, Arun Sarin, Matrix Partners, Sequoia Capital India, Omidyar Network,\\\\\\\\xc2\\\\\\\\xa0 Falcon Edge',\n",
       " 'Venturra Capital, Sequoia India, Susquehanna International Group.\\\\\\\\xc2\\\\\\\\xa0 Wavemaker Partners, Beenext, Beenos, Digital Garage',\n",
       " 'Dheeraj Jain, Palash Jain, Anupam Mittal, Ameera Shah,\\\\\\\\xc2\\\\\\\\xa0 Vivek Bhargava, Rahul Singh, Ambarish Gupta,',\n",
       " 'Blume Ventures, Mumbai Angels, ah! Ventures, Digital Currency Group, Boost VC, Bank to the Future and Funders Club',\n",
       " 'ah! Ventures, Anupam Mittal, Kunal Shah, Sandeep Tandon, Dheeraj Jain, Rohit Chokhani',\n",
       " 'Blume Ventures, Sachin Bansal, Vijay Shekhar Sharma, Binny Bansal,\\\\\\\\xc2\\\\\\\\xa0 Kunal Shah, Sandeep Tandon, Ashish Tulsian',\n",
       " 'Globevestor Angel Fund, Devendra Rane, Ravi Jain,\\\\\\\\xc2\\\\\\\\xa0 Arpan Nagdeve',\n",
       " 'YourNest Angel Fund\\\\\\\\xc2\\\\\\\\xa0 & Others',\n",
       " 'Sequoia Capital, Rohit Bansal, Kunal Bahl, Sandeep Tandon, Kunal Shah, Zishaan Hayath,\\\\\\\\xc2\\\\\\\\xa0 Abhishek Jain',\n",
       " 'Mumbai Angels,\\\\\\\\xc2\\\\\\\\xa0 Times Internet',\n",
       " 'ah! Ventures',\n",
       " 'L\\\\\\\\xe2\\\\\\\\x80\\\\\\\\x99Occitane',\n",
       " 'ah! Ventures',\n",
       " 'Kludein LLC\\\\\\\\nPhanindra Sama, Narayan Ramachandran, Pranav Pai',\n",
       " 'Bhavish Aggarwal, Binny Bansal,\\\\\\\\xc2\\\\\\\\xa0 Rajan Anandan, Mekin Maheshwar, Sunil Kalra, Anupam Mittal, Krishna Mehra, Singapore Angel Network',\n",
       " 'Wipro Ventures,\\\\\\\\xc2\\\\\\\\xa0 Lumis Partners',\n",
       " 'T V Mohandas Pai,\\\\\\\\xc2\\\\\\\\xa0 Aarin Capital',\n",
       " 'Aspada Advisors, IDG Ventures,\\\\\\\\xc2\\\\\\\\xa0 Inventus Capital',\n",
       " 'Ontario Teachers\\\\\\\\xe2\\\\\\\\x80\\\\\\\\x99 Pension Plan & Others',\n",
       " 'Blume Ventures,\\\\\\\\xc2\\\\\\\\xa0 Tracxn Labs',\n",
       " 'Omidyar Network,\\\\\\\\xc2\\\\\\\\xa0 Vikram Lal, Abhijit Bhandari, Mahesh Murthy, Shashank Bhagat',\n",
       " 'Lalitesh Katragadda,\\\\\\\\xc2\\\\\\\\xa0 Ganayantrika Systems',\n",
       " 'Myntra/LivSpace Founders',\n",
       " 'Matt Mullenweg, Adam D\\\\\\\\xe2\\\\\\\\x80\\\\\\\\x99Angelo, Aditya Agarwal,\\\\\\\\xc2\\\\\\\\xa0 Ruchi Sanghvi & Others',\n",
       " 'Hyderabad Angels, Lalit Mangal,\\\\\\\\xc2\\\\\\\\xa0 Vikas Malpani, Gaurav Bhalotia, LV Prasad',\n",
       " 'Unilazer Fund,\\\\\\\\xc2\\\\\\\\xa0 Phanindra Sama, Peyush Bansal',\n",
       " 'Sa\\\\\\\\xc3\\\\\\\\xafd Business School Seed Fund.',\n",
       " 'TermSheet, ah! Ventures',\n",
       " 'Lashit Sanghvi, Nikhil Vora, Venkat Vardhan,Mohammed Bin Abdul Rehman Al Khalifa,\\\\\\\\xc2\\\\\\\\xa0 Ralph Berezan, Vissal Mathew,\\\\\\\\xc2\\\\\\\\xa0 Balamurali Krishna',\n",
       " 'ru-Net, Sequoia Capital,\\\\\\\\xc2\\\\\\\\xa0 Lightbox Ventures',\n",
       " 'Extreme Venture Partners\\\\\\\\xc2\\\\\\\\xa0 William Bissell',\n",
       " 'Segnel Venture, Shinji Kimura, Sundar Chanrai, JAFCO Asia, SingTel\\\\\\\\xe2\\\\\\\\x80\\\\\\\\x99s Innov8, Jungle Ventures, K Ganesh',\n",
       " 'ah! Ventures',\n",
       " 'Rajan Anandan, Mike Galgon, Ravi Gururaj, Ashim Mehra,\\\\\\\\xc2\\\\\\\\xa0 Mohit Saxena, Internet Group, TNN Capital and others',\n",
       " 'TV Mohandas Pai\\\\\\\\xe2\\\\\\\\x80\\\\\\\\x99s family office',\n",
       " 'ah! Ventures',\n",
       " 'S.D. Shibulal, Kris Gopalakrishnan, Srinath Batni, Professor Tarun Khanna,\\\\\\\\xc2\\\\\\\\xa0 Ganapathy Venugopal.',\n",
       " 'IDG Ventures India,\\\\\\\\xc2\\\\\\\\xa0 Accel Partners India',\n",
       " 'Manish Kheterpal, Alok Mittal,\\\\\\\\xc2\\\\\\\\xa0 Puneet Dalmia,',\n",
       " 'Sanjeev Kapoor,\\\\\\\\xc2\\\\\\\\xa0 Ravi Saxena & Others',\n",
       " 'Sean O\\\\\\\\xe2\\\\\\\\x80\\\\\\\\x99Sullivan & Others',\n",
       " 'ah! Ventures, 500 Startups & Other HNIs',\n",
       " 'WestBridge Capital, Omidyar Network, Elevar Equity, Saama Capital,\\\\\\\\xc2\\\\\\\\xa0 Lok Capital',\n",
       " 'ah! Ventures, Viktor Koenig PE Fund, Mantra Ventures',\n",
       " 'SoftBank Group, Greenoaks Capital, Sequoia Capital,\\\\\\\\xc2\\\\\\\\xa0 Lightspeed India',\n",
       " 'Chennai Angels, Calcutta Angels, ah! Ventures, Intellecap Impact Investment Network, Indus Age Partners, Singapore Angel Network, India Internet Fund, LetsVenture',\n",
       " 'Horizons Ventures, Capricorn Investment Group, Social+Capital, Helion Advisors, Berggruen Holdings',\n",
       " 'Amit Ranjan, Vijay Shekhar Sharma, Kunal Bahl, Girish Mathrubootham &\\\\\\\\xc2\\\\\\\\xa0 Group of other Angel investors',\n",
       " 'ah! Ventures, Times Internet, Rudy Gopalakrishnan',\n",
       " 'ah! Ventures, Vivek Joshi, Mohit Satyanand & others',\n",
       " '\\\\\\\\xc2\\\\\\\\xa0Tiger Global',\n",
       " '\\\\\\\\xc2\\\\\\\\xa0IvyCap Ventures, Accel Partners, Dragoneer Investment Group',\n",
       " '\\\\\\\\xc2\\\\\\\\xa0 Sandeep Aggarwal, Teruhide Sato',\n",
       " '\\\\\\\\xc2\\\\\\\\xa0Rajeev Saraf, Arvind Jha, R. Satya Narayanan',\n",
       " '\\\\\\\\xc2\\\\\\\\xa0Indian Angel Network',\n",
       " '\\\\\\\\xc2\\\\\\\\xa0LetsVenture, Kumar Bansal, Kshitij Jain',\n",
       " '\\\\\\\\xc2\\\\\\\\xa0IndianIdeas.com',\n",
       " '\\\\\\\\xc2\\\\\\\\xa0Forum Synergies PE Fund',\n",
       " '\\\\\\\\xc2\\\\\\\\xa0Goldman Sachs',\n",
       " '\\\\\\\\xc2\\\\\\\\xa0Palaash Ventures',\n",
       " 'growX ventures,\\\\\\\\xc2\\\\\\\\xa0 Manish Singhal',\n",
       " 'IDG Ventures India, Omidyar Network, Sherpalo Ventures,\\\\\\\\xc2\\\\\\\\xa0 Mohandas Pai',\n",
       " 'Paytm, SAIF Partners,\\\\\\\\xc2\\\\\\\\xa0 Tiger Global Management & others',\n",
       " 'YouWeCan Ventures,\\\\\\\\xc2\\\\\\\\xa0 Aprameya Radhakrishna',\n",
       " 'Sharad Sharma, Rajan Anandan, Sunil Kalra, Amit Ranjan, Rohan Malhotra,\\\\\\\\xc2\\\\\\\\xa0 Arjun Malhotra, Gautam Gandhi',\n",
       " 'Tiger Global,\\\\\\\\xc2\\\\\\\\xa0 Nirvana Ventures Advisors',\n",
       " 'Natarajan Iyer,Rajesh Sawhney,\\\\\\\\xc2\\\\\\\\xa0 & other Angel investors.',\n",
       " 'Arihant Patni, Vishal Khare,\\\\\\\\xc2\\\\\\\\xa0 Viswanath Ramachandran',\n",
       " 'Group of Angel Investors from US/India',\n",
       " 'SAIF Partners,\\\\\\\\xc2\\\\\\\\xa0 Accel Partners',\n",
       " 'Fidelity Growth Partners India, SAIF Partners,\\\\\\\\xc2\\\\\\\\xa0 Helion Ventures',\n",
       " 'Rajendra Gogri,\\\\\\\\xc2\\\\\\\\xa0 Chandrakant Gogri',\n",
       " 'Rudy Gopalakrishnan, ah! Ventures',\n",
       " 'Silicon Valley Ventures, NEA Ventures, Valiant Capital, IDG Ventures India,\\\\\\\\xc2\\\\\\\\xa0 SAIF Partners, Vertex Ventures',\n",
       " 'Ajai Chowdhry, Ashvin Chadha, Yogesh Bansal,\\\\\\\\nNitin Singhal & Others',\n",
       " 'Ah! Ventures, Calcutta Angels,\\\\\\\\xc2\\\\\\\\xa0 91SpringBoard',\n",
       " 'VentureEast,\\\\\\\\xc2\\\\\\\\xa0 Varaprasad Reddy',\n",
       " 'CA Media LP,\\\\\\\\xc2\\\\\\\\xa0 Start Media.',\n",
       " 'Zodius Capital, Ru-Net, Kalaari Capital,\\\\\\\\xc2\\\\\\\\xa0 Qualcomm Ventures',\n",
       " 'ah! Ventures',\n",
       " 'Unitus Seed Fund\\\\\\\\nNarayan Ramachandran, Bijou Kurien']"
      ]
     },
     "execution_count": 953,
     "metadata": {},
     "output_type": "execute_result"
    }
   ],
   "source": [
    "pattern = r'[^a-zA-Z0-9\\s.,&()-]'\n",
    "Investor_mistyped_names = df[df['Investor'].str.contains(pattern,regex = True, na = False)]\n",
    "Investor_mistyped_names['Investor'].to_list()\n"
   ]
  },
  {
   "cell_type": "code",
   "execution_count": 955,
   "id": "b8ab6885-2b3c-4cff-88d4-8a513e73efaf",
   "metadata": {
    "scrolled": true
   },
   "outputs": [
    {
     "name": "stdout",
     "output_type": "stream",
     "text": [
      "Sr No\n",
      "2176        Hyperlocal\\\\xc2\\\\xa0 Grocery Delivery Service\n",
      "2201    WiFi \\xe2\\x80\\x93 first Cloud communication pl...\n",
      "2221                     Mobile Growth Hacking\\\\nPlatform\n",
      "2239       Women Ethnic Wear\\\\xc2\\\\xa0 Online Marketplace\n",
      "2365    Location based Nightlife recommendation\\\\xc2\\\\...\n",
      "2386             Luxury goods\\\\xc2\\\\xa0 Shopping Platform\n",
      "2395    ECommerce Brands\\\\xe2\\\\x80\\\\x99 Full Service A...\n",
      "2397                 Community Driven News/Views Platform\n",
      "2410                Home Design & D\\\\xc3\\\\xa9cor platform\n",
      "2420           Chain of Tea Caf\\\\xc3\\\\xa9\\\\xe2\\\\x80\\\\x99s\n",
      "2489              App security\\\\xc2\\\\xa0 testing platform\n",
      "2509               Home Design & D\\\\xc3\\\\xa9cor solutions\n",
      "2571                             CRM / Analytics platform\n",
      "2603                 \\\\xc2\\\\xa0News Aggregator mobile app\n",
      "2604                     \\\\xc2\\\\xa0Online Jewellery Store\n",
      "2605                \\\\xc2\\\\xa0Fashion Info Aggregator App\n",
      "2606             \\\\xc2\\\\xa0Online Study Notes Marketplace\n",
      "2607    \\\\xc2\\\\xa0Warranty Programs Service Administra...\n",
      "2608                           \\\\xc2\\\\xa0Pre-School Chain\n",
      "2609    \\\\xc2\\\\xa0Premium Loyalty Rewards Point Manage...\n",
      "2610           \\\\xc2\\\\xa0Contact Center Software Platform\n",
      "2611             \\\\xc2\\\\xa0Casual Dining restaurant Chain\n",
      "2612                    \\\\xc2\\\\xa0Online Grocery Delivery\n",
      "2640                  Private Jet/ Helicopter Marketplace\n",
      "2642                    Ethnic/ Traditional Fashion Store\n",
      "2648               Online home d\\\\xc3\\\\xa9cor marketplace\n",
      "2692                        Healthcare\\\\nService provider\n",
      "2694                        Artist / Designer Marketplace\n",
      "2717                  IT / Customer Engagement Consulting\n",
      "2746          Marketing / Advertising Automation platform\n",
      "2803                           Online Home D\\\\xc3\\\\xa9cor\n",
      "2820                              Digital / Mobile Wallet\n",
      "2824                              Digital / Mobile Wallet\n",
      "2825                        Online Furnishing\\\\neCommerce\n",
      "2827                  Interactive\\\\xc2\\\\xa0 How-To Guides\n",
      "2836                    Hyper-Local Online/Mobile Grocery\n",
      "2837                    Hyper-Local Online/Mobile Grocery\n",
      "2840                  OnDemand\\\\nMobile Handyman Services\n",
      "2846                     Online / Mobile Customer Support\n",
      "2866                            Tele-Shopping / eCommerce\n",
      "2867                      Used Gadgets Buy / Refurbishing\n",
      "Name: Vertical, dtype: object\n"
     ]
    }
   ],
   "source": [
    "vertical_mistyped_names = r'[^a-zA-Z0-9\\s.,&()-]'\n",
    "vertical_mistyped_names = df[df['Vertical'].str.contains(vertical_mistyped_names,regex = True,na = False)]\n",
    "print(vertical_mistyped_names['Vertical'])"
   ]
  },
  {
   "cell_type": "code",
   "execution_count": 957,
   "id": "a32da1aa-494e-489c-a587-cbc31563f9dd",
   "metadata": {
    "scrolled": true
   },
   "outputs": [
    {
     "data": {
      "text/plain": [
       "Sr No\n",
       "19                        Men's Health and Wellness brand\n",
       "154                  News and ebooks Mobile App\\\\xc2\\\\xa0\n",
       "183     Applied Artificial Intelligence and IoT focuse...\n",
       "186        \\\\xc2\\\\xa0Customer Sourcing Platform\\\\xc2\\\\xa0\n",
       "188     Post-Purchase Customer Engagement Platform\\\\xc...\n",
       "439          \"Women\\\\'s Fashion Clothing Online Platform\"\n",
       "569                           Credit + payment mobile app\n",
       "685     parenting blog and kids\\\\xe2\\\\x80\\\\x99 events ...\n",
       "753     Mobile SAAS\\\\xc2\\\\xa0 ECommerce platform for SMEs\n",
       "773       Gesture based\\\\xc2\\\\xa0 Smartwatch manufacturer\n",
       "853     Hyperlocal Discovery\\\\xc2\\\\xa0 & Rewards platform\n",
       "904            Social Commerce\\\\xc2\\\\xa0 Fashion platform\n",
       "1047       Online/App Based Car cleaning service provider\n",
       "1216     Cloud based\\\\xc2\\\\xa0 health monitoring platform\n",
       "1245           proximity based\\\\xc2\\\\xa0 Rewards platform\n",
       "1319        Hyperlocal\\\\xc2\\\\xa0 Communication Mobile app\n",
       "1322                    Online Food Ordering platform/App\n",
       "1347           Women\\xe2\\x80\\x99s Fashion Apparel eTailer\n",
       "1414         Doctor & Clinic\\\\xc2\\\\xa0 Discovery Platform\n",
       "1416     Online Women\\\\xe2\\\\x80\\\\x99s Fashion Marketplace\n",
       "1435         Men\\\\xe2\\\\x80\\\\x99s Grooming Product etailer\n",
       "1463    Organic,\\\\xc2\\\\xa0 Natural\\\\xc2\\\\xa0 Food subs...\n",
       "1544                Women\\\\xe2\\\\x80\\\\x99s Fashion etailer\n",
       "1554    \\\\nLoans Comparison platform\\\\n\\\\n\\\\n\\\\n     (...\n",
       "1613                   Web/Mobile Music Streaming service\n",
       "1614     Online Women\\\\xe2\\\\x80\\\\x99s Fashion Marketplace\n",
       "1658                       Online/ Mobile Tax Cab booking\n",
       "1687        Children\\\\xe2\\\\x80\\\\x99s Entertainment Portal\n",
       "1770            Invoice discounting\\\\xc2\\\\xa0 Marketplace\n",
       "1782       Women\\\\xe2\\\\x80\\\\x99s Fashion ECommerce Portal\n",
       "1804    Children\\xe2\\x80\\x99s Entertainment Games & Pr...\n",
       "1847                 Women\\\\xe2\\\\x80\\\\x99s health Tracker\n",
       "1852      Interior Design & Home D\\\\xc3\\\\xa9cor Solutions\n",
       "1875                                Car/ bike Pooling App\n",
       "2005              Health Food / Personal Care Marketplace\n",
       "2026                 Online Travel/Hotel Booking platform\n",
       "2027                    Online/ Mobile Jewellery Retailer\n",
       "2034               Online / Mobile Food Ordering platform\n",
       "2058                SAAS DIY\\\\xc2\\\\xa0 ECommerce Platform\n",
       "2059                 Online/Mobile food ordering platform\n",
       "2089                  Home D\\\\xc3\\\\xa9cor Product etailer\n",
       "Name: SubVertical, dtype: object"
      ]
     },
     "execution_count": 957,
     "metadata": {},
     "output_type": "execute_result"
    }
   ],
   "source": [
    "pattern = r'[^a-zA-Z0-9\\s.,&()-]'\n",
    "unwanted_subvertical = df[df['SubVertical'].str.contains(pattern,regex=True)]\n",
    "unwanted_subvertical['SubVertical']"
   ]
  },
  {
   "cell_type": "markdown",
   "id": "7f07104d-62d8-46d5-9569-f61defbba0af",
   "metadata": {},
   "source": [
    "### Removing Unwanted substrings"
   ]
  },
  {
   "cell_type": "code",
   "execution_count": 960,
   "id": "cedced83-eeff-4d15-9008-c5696ea0d30e",
   "metadata": {},
   "outputs": [],
   "source": [
    "\n",
    "def remove_unwanted_substrings(value):\n",
    "    value = re.sub(r'[^a-zA-Z0-9\\s.,&()-]|\\\\xc2|\\\\xa0|\\\\x[a-zA-Z0-9]{2,}', '', value)\n",
    "    return value\n",
    "\n",
    "\n",
    "def replace_patterns(value, replace_slash=False):\n",
    "    if replace_slash:\n",
    "        value = value.replace('/', 'and')\n",
    "    return value\n",
    "\n",
    "\n",
    "def normalize_value(value):\n",
    "    value = re.sub(r'\\s+', ' ', value).strip()\n",
    "    value = value.title()\n",
    "    return value\n",
    "\n",
    "\n",
    "columns_to_clean = {\n",
    "    'Investor': {'replace_slash': False},\n",
    "    'Vertical': {'replace_slash': True},\n",
    "    'SubVertical': {'replace_slash': True},\n",
    "}\n",
    "\n",
    "\n",
    "for column, params in columns_to_clean.items():\n",
    "    \n",
    "    df[column] = df[column].apply(remove_unwanted_substrings)\n",
    "\n",
    "    df[column] = df[column].apply(lambda x: replace_patterns(x, replace_slash=params['replace_slash']))\n",
    "\n",
    "    df[column] = df[column].apply(normalize_value)\n"
   ]
  },
  {
   "cell_type": "code",
   "execution_count": 962,
   "id": "12970e60-469f-4892-8bb6-e7aec346fba3",
   "metadata": {},
   "outputs": [
    {
     "data": {
      "text/html": [
       "<div>\n",
       "<style scoped>\n",
       "    .dataframe tbody tr th:only-of-type {\n",
       "        vertical-align: middle;\n",
       "    }\n",
       "\n",
       "    .dataframe tbody tr th {\n",
       "        vertical-align: top;\n",
       "    }\n",
       "\n",
       "    .dataframe thead th {\n",
       "        text-align: right;\n",
       "    }\n",
       "</style>\n",
       "<table border=\"1\" class=\"dataframe\">\n",
       "  <thead>\n",
       "    <tr style=\"text-align: right;\">\n",
       "      <th></th>\n",
       "      <th>Investor</th>\n",
       "      <th>Vertical</th>\n",
       "      <th>SubVertical</th>\n",
       "    </tr>\n",
       "    <tr>\n",
       "      <th>Sr No</th>\n",
       "      <th></th>\n",
       "      <th></th>\n",
       "      <th></th>\n",
       "    </tr>\n",
       "  </thead>\n",
       "  <tbody>\n",
       "    <tr>\n",
       "      <th>2022</th>\n",
       "      <td>Myntralivspace Founders</td>\n",
       "      <td>Consumer Internet</td>\n",
       "      <td>Automobile Service Booking App</td>\n",
       "    </tr>\n",
       "    <tr>\n",
       "      <th>2966</th>\n",
       "      <td>Ashok Goel (Promoter)</td>\n",
       "      <td>Others</td>\n",
       "      <td>Unknown</td>\n",
       "    </tr>\n",
       "    <tr>\n",
       "      <th>2579</th>\n",
       "      <td>Tiger Global</td>\n",
       "      <td>Language Learning App</td>\n",
       "      <td>Unknown</td>\n",
       "    </tr>\n",
       "    <tr>\n",
       "      <th>129</th>\n",
       "      <td>Shunwei Capital, Dst Partners And Rps Ventures</td>\n",
       "      <td>Ecommerce</td>\n",
       "      <td>Social Commerce</td>\n",
       "    </tr>\n",
       "    <tr>\n",
       "      <th>2594</th>\n",
       "      <td>Sunrise Capital Gmbh, Big Data Investments B.V</td>\n",
       "      <td>Big Data &amp; Analytics Platform</td>\n",
       "      <td>Unknown</td>\n",
       "    </tr>\n",
       "    <tr>\n",
       "      <th>719</th>\n",
       "      <td>Info Edge (India) Ltd</td>\n",
       "      <td>Consumer Internet</td>\n",
       "      <td>Beauty Services Marketplace</td>\n",
       "    </tr>\n",
       "    <tr>\n",
       "      <th>784</th>\n",
       "      <td>Undisclosed Investors</td>\n",
       "      <td>Technology</td>\n",
       "      <td>In-Video Discovery Platform</td>\n",
       "    </tr>\n",
       "    <tr>\n",
       "      <th>571</th>\n",
       "      <td>Ani Technologies Pvt. Ltd</td>\n",
       "      <td>Consumer Internet</td>\n",
       "      <td>App Based Cab Hailing Services</td>\n",
       "    </tr>\n",
       "    <tr>\n",
       "      <th>441</th>\n",
       "      <td>Singapore Angel Network, Mumbai Angel</td>\n",
       "      <td>E-Commerce</td>\n",
       "      <td>Online Platform Selling Indian Tea Globally</td>\n",
       "    </tr>\n",
       "    <tr>\n",
       "      <th>1275</th>\n",
       "      <td>Undisclosed Investor</td>\n",
       "      <td>Consumer Internet</td>\n",
       "      <td>Online Puja Booking Service</td>\n",
       "    </tr>\n",
       "  </tbody>\n",
       "</table>\n",
       "</div>"
      ],
      "text/plain": [
       "                                             Investor  \\\n",
       "Sr No                                                   \n",
       "2022                          Myntralivspace Founders   \n",
       "2966                            Ashok Goel (Promoter)   \n",
       "2579                                     Tiger Global   \n",
       "129    Shunwei Capital, Dst Partners And Rps Ventures   \n",
       "2594   Sunrise Capital Gmbh, Big Data Investments B.V   \n",
       "719                             Info Edge (India) Ltd   \n",
       "784                             Undisclosed Investors   \n",
       "571                         Ani Technologies Pvt. Ltd   \n",
       "441             Singapore Angel Network, Mumbai Angel   \n",
       "1275                             Undisclosed Investor   \n",
       "\n",
       "                            Vertical  \\\n",
       "Sr No                                  \n",
       "2022               Consumer Internet   \n",
       "2966                          Others   \n",
       "2579           Language Learning App   \n",
       "129                        Ecommerce   \n",
       "2594   Big Data & Analytics Platform   \n",
       "719                Consumer Internet   \n",
       "784                       Technology   \n",
       "571                Consumer Internet   \n",
       "441                       E-Commerce   \n",
       "1275               Consumer Internet   \n",
       "\n",
       "                                       SubVertical  \n",
       "Sr No                                               \n",
       "2022                Automobile Service Booking App  \n",
       "2966                                       Unknown  \n",
       "2579                                       Unknown  \n",
       "129                                Social Commerce  \n",
       "2594                                       Unknown  \n",
       "719                    Beauty Services Marketplace  \n",
       "784                    In-Video Discovery Platform  \n",
       "571                 App Based Cab Hailing Services  \n",
       "441    Online Platform Selling Indian Tea Globally  \n",
       "1275                   Online Puja Booking Service  "
      ]
     },
     "execution_count": 962,
     "metadata": {},
     "output_type": "execute_result"
    }
   ],
   "source": [
    "df[['Investor','Vertical', 'SubVertical']].sample(10)"
   ]
  },
  {
   "cell_type": "code",
   "execution_count": null,
   "id": "c14c9fce-c167-46a2-af8e-96dac8710454",
   "metadata": {},
   "outputs": [],
   "source": []
  },
  {
   "cell_type": "markdown",
   "id": "071a73e2-da6c-40e4-8f10-b06eb288e693",
   "metadata": {},
   "source": [
    "### Cleaning Startup Column"
   ]
  },
  {
   "cell_type": "code",
   "execution_count": 966,
   "id": "12a7ffd0",
   "metadata": {},
   "outputs": [],
   "source": [
    "df['Startup'] = df['Startup'].str.strip().str.lower()"
   ]
  },
  {
   "cell_type": "code",
   "execution_count": 968,
   "id": "5b194380",
   "metadata": {
    "scrolled": true
   },
   "outputs": [
    {
     "data": {
      "text/plain": [
       "Sr No\n",
       "1                                             byju’s\n",
       "4                       https://www.wealthbucket.in/\n",
       "54                                         lo! foods\n",
       "68                                        \"byju\\\\'s\"\n",
       "240                     what\\\\xe2\\\\x80\\\\x99s up life\n",
       "713                             byju\\\\xe2\\\\x80\\\\x99s\n",
       "714                  creator\\\\xe2\\\\x80\\\\x99s gurukul\n",
       "984                             byju\\\\xe2\\\\x80\\\\x99s\n",
       "1154                            serv\\\\xe2\\\\x80\\\\x99d\n",
       "1165                            byju\\\\xe2\\\\x80\\\\x99s\n",
       "1348                                      cheersoye!\n",
       "1357                            byju\\\\xe2\\\\x80\\\\x99s\n",
       "1395                           \\\\xc2\\\\xa0cloudcherry\n",
       "1399                         let\\xe2\\x80\\x99s barter\n",
       "1433                                  zeolr/respiron\n",
       "1515           don\\\\xe2\\\\x80\\\\x99t scratch your head\n",
       "1541                        transtutors / askiitians\n",
       "1554                            deal4loans / wishfin\n",
       "1881                            byju\\\\xe2\\\\x80\\\\x99s\n",
       "2014                                 alef\\\\nmobitech\n",
       "2019                            planmy\\\\nmedicaltrip\n",
       "2406                            the/nudge foundation\n",
       "2496                         carl\\\\xe2\\\\x80\\\\x99s jr\n",
       "2505    nearbuy (previously\\\\xc2\\\\xa0 groupon india)\n",
       "2510                                       wow! momo\n",
       "2603                        \\\\xc2\\\\xa0news in shorts\n",
       "2604                             \\\\xc2\\\\xa0bluestone\n",
       "2605                              \\\\xc2\\\\xa0shopsity\n",
       "2606                              \\\\xc2\\\\xa0notesgen\n",
       "2607                    \\\\xc2\\\\xa0infinity assurance\n",
       "2608                  \\\\xc2\\\\xa0footprints education\n",
       "2609                        \\\\xc2\\\\xa0loylty rewards\n",
       "2610                                 \\\\xc2\\\\xa0ameyo\n",
       "2611                              \\\\xc2\\\\xa0mamagoto\n",
       "2612                             \\\\xc2\\\\xa0satvacart\n",
       "2654                           zovi.com / little app\n",
       "2795                             \\\\xc2\\\\xa0nudgespot\n",
       "2955                           faaso\\\\xe2\\\\x80\\\\x99s\n",
       "2993                                           #fame\n",
       "Name: Startup, dtype: object"
      ]
     },
     "execution_count": 968,
     "metadata": {},
     "output_type": "execute_result"
    }
   ],
   "source": [
    "pattern = r'[^a-zA-Z0-9\\s.,&()-]'\n",
    "unwanted_subvertical = df[df['Startup'].str.contains(pattern,regex=True)]\n",
    "unwanted_subvertical['Startup']"
   ]
  },
  {
   "cell_type": "code",
   "execution_count": 970,
   "id": "8a1e994a",
   "metadata": {},
   "outputs": [
    {
     "data": {
      "text/plain": [
       "2349"
      ]
     },
     "execution_count": 970,
     "metadata": {},
     "output_type": "execute_result"
    }
   ],
   "source": [
    "df['Startup'].nunique()"
   ]
  },
  {
   "cell_type": "code",
   "execution_count": 972,
   "id": "ed7cdcba",
   "metadata": {},
   "outputs": [],
   "source": [
    "unwanted_substrings = [\n",
    "    r'\\\\xe2\\\\x80\\\\x99',  \n",
    "    r'\\\\xc2\\\\xa0',       \n",
    "    r'\\\\',               \n",
    "    r'\\n',              \n",
    "    r'\"',                \n",
    "    r\"’\",                \n",
    "    r'#',                \n",
    "]\n",
    "\n",
    "replace_by_quotation = [\n",
    "    r'\\\\xe2\\\\x80\\\\x99',  \n",
    "    r'\\xe2\\x80\\x99',     \n",
    "]\n",
    "\n",
    "df['Startup'] = df['Startup'].str.replace(\n",
    "    r'nearbuy \\(previously\\\\xc2\\\\xa0 groupon india\\)', 'Nearbuy', regex=True)\n",
    "\n",
    "df['Startup'] = df['Startup'].replace('https://www.wealthbucket.in/', 'WealthBucket', regex=False)\n",
    "\n",
    "df['Startup'] = df['Startup'].str.replace(r'/', ' and ', regex=False)\n",
    "\n",
    "for pattern in unwanted_substrings:\n",
    "    df['Startup'] = df['Startup'].str.replace(pattern, ' ', regex=True)\n",
    "\n",
    "for pattern in replace_by_quotation:\n",
    "    df['Startup'] = df['Startup'].str.replace(pattern, \"'\", regex=True)\n",
    "\n",
    "df['Startup'] = df['Startup'].str.replace(r\"^\\W+|\\W+$\", \"\", regex=True)\n",
    "\n",
    "df['Startup'] = df['Startup'].str.replace(r'\\s+', ' ', regex=True).str.strip()\n",
    "\n",
    "df['Startup'] = df['Startup'].str.lower()\n",
    "\n",
    "\n"
   ]
  },
  {
   "cell_type": "code",
   "execution_count": 977,
   "id": "fa075cff",
   "metadata": {},
   "outputs": [
    {
     "data": {
      "text/plain": [
       "Sr No\n",
       "1918        zendrive\n",
       "1020       connaizen\n",
       "2009    b9 beverages\n",
       "2798        razorpay\n",
       "306            nykaa\n",
       "1941     anandakanda\n",
       "1848      kartrocket\n",
       "Name: Startup, dtype: object"
      ]
     },
     "execution_count": 977,
     "metadata": {},
     "output_type": "execute_result"
    }
   ],
   "source": [
    "df['Startup'].sample(10)"
   ]
  },
  {
   "cell_type": "markdown",
   "id": "a1ad3a94-20b9-4f1a-ab78-40121afb5743",
   "metadata": {},
   "source": [
    "### Exporting the Cleaned Dataset "
   ]
  },
  {
   "cell_type": "code",
   "execution_count": 985,
   "id": "2d86428a-959e-4fc0-951f-81f91a5a2771",
   "metadata": {},
   "outputs": [
    {
     "data": {
      "text/plain": [
       "'/Users/shraddheysatpute/Documents/Data Analyst/Datasets/startup_analysis_cleaned_main.csv'"
      ]
     },
     "execution_count": 985,
     "metadata": {},
     "output_type": "execute_result"
    }
   ],
   "source": [
    "cleaned_file_path = \"/Users/shraddheysatpute/Documents/Data Analyst/Datasets/startup_analysis_cleaned_main.csv\"\n",
    "df.to_csv(cleaned_file_path, index=False)\n",
    "\n"
   ]
  },
  {
   "cell_type": "markdown",
   "id": "71001c5e-6a56-4e93-ac81-7aaf7a6b80ea",
   "metadata": {},
   "source": [
    "### Remaining cleaning was done on MS Excel."
   ]
  }
 ],
 "metadata": {
  "kernelspec": {
   "display_name": "Python [conda env:base] *",
   "language": "python",
   "name": "conda-base-py"
  },
  "language_info": {
   "codemirror_mode": {
    "name": "ipython",
    "version": 3
   },
   "file_extension": ".py",
   "mimetype": "text/x-python",
   "name": "python",
   "nbconvert_exporter": "python",
   "pygments_lexer": "ipython3",
   "version": "3.12.7"
  }
 },
 "nbformat": 4,
 "nbformat_minor": 5
}
